{
 "cells": [
  {
   "cell_type": "code",
   "execution_count": 1,
   "metadata": {},
   "outputs": [
    {
     "data": {
      "application/vnd.jupyter.widget-view+json": {
       "model_id": "ad4d264e405a46289b8ee1c75ff4778d",
       "version_major": 2,
       "version_minor": 0
      },
      "text/plain": [
       "Tab(children=(FileUpload(value=(), accept='.txt', description='Upload'),), selected_index=0, titles=('',))"
      ]
     },
     "execution_count": 1,
     "metadata": {},
     "output_type": "execute_result"
    }
   ],
   "source": [
    "import src.UI as UI\n",
    "\n",
    "data_preperation = UI.DataPreperationUI()\n",
    "data_preperation.display()\n"
   ]
  },
  {
   "cell_type": "code",
   "execution_count": null,
   "metadata": {},
   "outputs": [],
   "source": [
    "data_preperation.get_file_content()\n"
   ]
  }
 ],
 "metadata": {
  "kernelspec": {
   "display_name": "Python 3 (ipykernel)",
   "language": "python",
   "name": "python3"
  },
  "language_info": {
   "codemirror_mode": {
    "name": "ipython",
    "version": 3
   },
   "file_extension": ".py",
   "mimetype": "text/x-python",
   "name": "python",
   "nbconvert_exporter": "python",
   "pygments_lexer": "ipython3",
   "version": "3.10.7"
  },
  "vscode": {
   "interpreter": {
    "hash": "bc9293589a096fe08a52b75eee583dc9e75c3a487d51f71408e35f39a58b7c48"
   }
  }
 },
 "nbformat": 4,
 "nbformat_minor": 2
}
