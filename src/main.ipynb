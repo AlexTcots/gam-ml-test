{
 "cells": [
  {
   "cell_type": "code",
   "execution_count": null,
   "metadata": {},
   "outputs": [],
   "source": [
    "from IPython.display import HTML, display\n",
    "\n",
    "display(HTML(\"<style>.jp-Cell { width: 60% !important; margin: 0 auto; }</style>\"))\n"
   ]
  },
  {
   "cell_type": "code",
   "execution_count": 2,
   "metadata": {},
   "outputs": [],
   "source": [
    "import ipywidgets as iw\n",
    "\n",
    "import UI\n",
    "from DataClasses import Data, Model\n",
    "from Managers import DataManager, ModelManager\n",
    "from UI.CustomWidgets.DataPreparation import (\n",
    "    DataGridWidget,\n",
    "    DataPlotWidget,\n",
    "    SelectInputColumnsWidget,\n",
    "    SelectOutputColumnsWidget,\n",
    "    SplitDataWidget,\n",
    ")\n",
    "from UI.CustomWidgets.ModelCompilation import (\n",
    "    CompileModel,\n",
    "    SelectLossesWidget,\n",
    "    SelectMetricsWidget,\n",
    "    SelectOptimizerWidget,\n",
    ")\n",
    "from UI.CustomWidgets.ModelConfiguration import (\n",
    "    CreateModelWidget,\n",
    "    ManageLayersWidget,\n",
    "    PlotModelWidget,\n",
    "    SaveModelWidget,\n",
    "    SetModelOutputsWidget,\n",
    "    ShowModelSummaryWidget,\n",
    ")\n",
    "from UI.CustomWidgets.ModelEvaluation import EvaluateModelWidget\n",
    "from UI.CustomWidgets.ModelPredictions import MakePredictionsWidget\n",
    "from UI.CustomWidgets.ModelTraining import (\n",
    "    PlotHistoryWidget,\n",
    "    SelectCallbacksWidget,\n",
    "    TrainModelWidget,\n",
    ")\n",
    "from UI.CustomWidgets.Uploaders import UploadFileWidget, UploadModelWidget\n"
   ]
  },
  {
   "cell_type": "code",
   "execution_count": 3,
   "metadata": {},
   "outputs": [],
   "source": [
    "from IPython.display import Markdown as md\n",
    "from notebook import notebookapp\n",
    "\n",
    "servers = list(notebookapp.list_running_servers())[0]\n",
    "datasets_url = f\"https://hub-binder.mybinder.ovh{servers['base_url']}tree/db/Datasets\"\n",
    "models_url = f\"https://hub-binder.mybinder.ovh{servers['base_url']}tree/db/Models\"\n",
    "images_url = f\"https://hub-binder.mybinder.ovh{servers['base_url']}tree/db/Images\"\n",
    "logs_url = f\"https://hub-binder.mybinder.ovh{servers['base_url']}tree/db/Logs\"\n"
   ]
  },
  {
   "cell_type": "code",
   "execution_count": 4,
   "metadata": {},
   "outputs": [],
   "source": [
    "data = Data()\n",
    "model = Model()\n",
    "data_manager = DataManager(data=data, model=model)\n",
    "model_manager = ModelManager(data=data, model=model)\n"
   ]
  },
  {
   "cell_type": "markdown",
   "metadata": {},
   "source": [
    "<h3 style=\"text-align: center;\"> Welcome to the app! </h3>"
   ]
  },
  {
   "cell_type": "code",
   "execution_count": null,
   "metadata": {},
   "outputs": [],
   "source": [
    "display(\n",
    "    md(\n",
    "        f\"Here you will find guides and documentation on how to use each section: #TODO[Guides/Docs].\"\n",
    "    )\n",
    ")\n",
    "display(\n",
    "    md(\n",
    "        f\"Here you can manage your data files for further use: <a href={datasets_url} target='_blank'>Datasets</a>.\"\n",
    "    )\n",
    ")\n",
    "display(\n",
    "    md(\n",
    "        f\"Here you can manage your models for further use: <a href={models_url} target='_blank'>Models</a>.\"\n",
    "    )\n",
    ")\n",
    "display(\n",
    "    md(\n",
    "        f\"Here you will find model images: <a href={images_url} target='_blank'>Images</a>.\"\n",
    "    )\n",
    ")\n",
    "display(\n",
    "    md(\n",
    "        f\"Here you will find callbacks files: <a href={logs_url} target='_blank'>Logs</a>.\"\n",
    "    )\n",
    ")\n"
   ]
  },
  {
   "cell_type": "markdown",
   "metadata": {},
   "source": [
    "<h1 style=\"text-align: center;\"> Upload </h1>"
   ]
  },
  {
   "cell_type": "code",
   "execution_count": null,
   "metadata": {},
   "outputs": [],
   "source": [
    "uploading = UI.WidgetUI(\n",
    "    widget=iw.Accordion,\n",
    "    widget_children=[UploadFileWidget, UploadModelWidget],\n",
    "    data_manager=data_manager,\n",
    "    model_manager=model_manager,\n",
    ")\n",
    "uploading.ui\n"
   ]
  },
  {
   "cell_type": "markdown",
   "metadata": {},
   "source": [
    "<h1 style=\"text-align: center;\"> Data Preparation </h1>"
   ]
  },
  {
   "cell_type": "code",
   "execution_count": null,
   "metadata": {},
   "outputs": [],
   "source": [
    "data_preparation = UI.WidgetUI(\n",
    "    widget=iw.Accordion,\n",
    "    widget_children=[\n",
    "        DataGridWidget,\n",
    "        DataPlotWidget,\n",
    "        SelectInputColumnsWidget,\n",
    "        SelectOutputColumnsWidget,\n",
    "        SplitDataWidget,\n",
    "    ],\n",
    "    data_manager=data_manager,\n",
    "    model_manager=model_manager,\n",
    ")\n",
    "data_preparation.ui\n"
   ]
  },
  {
   "cell_type": "markdown",
   "metadata": {},
   "source": [
    "<h1 style=\"text-align: center;\"> Model Configuration </h1>"
   ]
  },
  {
   "cell_type": "code",
   "execution_count": null,
   "metadata": {},
   "outputs": [],
   "source": [
    "model_configuration = UI.WidgetUI(\n",
    "    widget=iw.Accordion,\n",
    "    widget_children=[\n",
    "        CreateModelWidget,\n",
    "        ManageLayersWidget,\n",
    "        SetModelOutputsWidget,\n",
    "        ShowModelSummaryWidget,\n",
    "        PlotModelWidget,\n",
    "        SaveModelWidget,\n",
    "    ],\n",
    "    data_manager=data_manager,\n",
    "    model_manager=model_manager,\n",
    ")\n",
    "model_configuration.ui\n"
   ]
  },
  {
   "cell_type": "markdown",
   "metadata": {},
   "source": [
    "<h1 style=\"text-align: center;\"> Model Compilation </h1>"
   ]
  },
  {
   "cell_type": "code",
   "execution_count": null,
   "metadata": {},
   "outputs": [],
   "source": [
    "model_compilation = UI.WidgetUI(\n",
    "    widget=iw.Accordion,\n",
    "    widget_children=[\n",
    "        SelectOptimizerWidget,\n",
    "        SelectLossesWidget,\n",
    "        SelectMetricsWidget,\n",
    "        CompileModel,\n",
    "    ],\n",
    "    data_manager=data_manager,\n",
    "    model_manager=model_manager,\n",
    ")\n",
    "model_compilation.ui\n"
   ]
  },
  {
   "cell_type": "markdown",
   "metadata": {},
   "source": [
    "<h1 style=\"text-align: center;\"> Model Training </h1>"
   ]
  },
  {
   "cell_type": "code",
   "execution_count": null,
   "metadata": {},
   "outputs": [],
   "source": [
    "model_training = UI.WidgetUI(\n",
    "    widget=iw.Accordion,\n",
    "    widget_children=[\n",
    "        SelectCallbacksWidget,\n",
    "        TrainModelWidget,\n",
    "        PlotHistoryWidget,\n",
    "        SaveModelWidget,\n",
    "    ],\n",
    "    data_manager=data_manager,\n",
    "    model_manager=model_manager,\n",
    ")\n",
    "model_training.ui\n"
   ]
  },
  {
   "cell_type": "markdown",
   "metadata": {},
   "source": [
    "<h1 style=\"text-align: center;\"> Model Evaluation </h1>"
   ]
  },
  {
   "cell_type": "code",
   "execution_count": null,
   "metadata": {},
   "outputs": [],
   "source": [
    "model_evaluation = UI.WidgetUI(\n",
    "    widget=iw.Accordion,\n",
    "    widget_children=[SelectCallbacksWidget, EvaluateModelWidget],\n",
    "    data_manager=data_manager,\n",
    "    model_manager=model_manager,\n",
    ")\n",
    "model_evaluation.ui\n"
   ]
  },
  {
   "cell_type": "markdown",
   "metadata": {},
   "source": [
    "<h1 style=\"text-align: center;\"> Model Predictions </h1>"
   ]
  },
  {
   "cell_type": "code",
   "execution_count": null,
   "metadata": {},
   "outputs": [],
   "source": [
    "model_predictions = UI.WidgetUI(\n",
    "    widget=iw.Accordion,\n",
    "    widget_children=[SelectCallbacksWidget, MakePredictionsWidget],\n",
    "    data_manager=data_manager,\n",
    "    model_manager=model_manager,\n",
    ")\n",
    "model_predictions.ui\n"
   ]
  }
 ],
 "metadata": {
  "kernelspec": {
   "display_name": "Python 3 (ipykernel)",
   "language": "python",
   "name": "python3"
  },
  "language_info": {
   "codemirror_mode": {
    "name": "ipython",
    "version": 3
   },
   "file_extension": ".py",
   "mimetype": "text/x-python",
   "name": "python",
   "nbconvert_exporter": "python",
   "pygments_lexer": "ipython3",
   "version": "3.10.7 (tags/v3.10.7:6cc6b13, Sep  5 2022, 14:08:36) [MSC v.1933 64 bit (AMD64)]"
  },
  "vscode": {
   "interpreter": {
    "hash": "bc9293589a096fe08a52b75eee583dc9e75c3a487d51f71408e35f39a58b7c48"
   }
  }
 },
 "nbformat": 4,
 "nbformat_minor": 4
}
