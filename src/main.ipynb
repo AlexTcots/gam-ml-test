{
 "cells": [
  {
   "cell_type": "code",
   "execution_count": 1,
   "metadata": {},
   "outputs": [],
   "source": [
    "import ipywidgets as iw\n",
    "\n",
    "import UI\n",
    "from DataClasses import Config, Data, Model\n",
    "from Managers import DataManager, ModelManager, TrainingManager\n",
    "from UI.CustomWidgets.DataPreparation import (\n",
    "    DataGridWidget,\n",
    "    DataPlotWidget,\n",
    "    UploadFileWidget,\n",
    ")\n",
    "from UI.CustomWidgets.ModelConfiguration import (\n",
    "    CreateModelWidget,\n",
    "    ManageLayersWidget,\n",
    "    PlotModelWidget,\n",
    "    SaveModelWidget,\n",
    "    UploadModelWidget,\n",
    ")\n",
    "from UI.CustomWidgets.ModelTraining import (\n",
    "    PlotHistoryWidget,\n",
    "    SelectCallbackWidget,\n",
    "    SelectLossesWidget,\n",
    "    SelectMetricsWidget,\n",
    "    SelectOptimizerWidget,\n",
    "    SelectTrainingDataWidget,\n",
    "    TrainModelWidget,\n",
    ")\n"
   ]
  },
  {
   "cell_type": "markdown",
   "metadata": {},
   "source": [
    "<h1 style=\"text-align: center;\"> Data Preparation </h1>"
   ]
  },
  {
   "cell_type": "code",
   "execution_count": null,
   "metadata": {},
   "outputs": [],
   "source": [
    "data_preparation = UI.WidgetUI(\n",
    "    widget=iw.Accordion,\n",
    "    widget_children=[UploadFileWidget, DataGridWidget, DataPlotWidget],\n",
    "    widget_params={\"manager\": DataManager(data=Data())},\n",
    ")\n",
    "data_preparation.ui\n"
   ]
  },
  {
   "cell_type": "markdown",
   "metadata": {},
   "source": [
    "<h1 style=\"text-align: center;\"> Model Configuration </h1>"
   ]
  },
  {
   "cell_type": "code",
   "execution_count": null,
   "metadata": {
    "scrolled": false
   },
   "outputs": [],
   "source": [
    "model_configuration = UI.WidgetUI(\n",
    "    widget=iw.Accordion,\n",
    "    widget_children=[\n",
    "        CreateModelWidget,\n",
    "        ManageLayersWidget,\n",
    "        PlotModelWidget,\n",
    "        SaveModelWidget,\n",
    "    ],\n",
    "    widget_params={\"manager\": ModelManager(model=Model())},\n",
    ")\n",
    "model_configuration.ui\n"
   ]
  },
  {
   "cell_type": "markdown",
   "metadata": {},
   "source": [
    "<h1 style=\"text-align: center;\"> Model Training </h1>"
   ]
  },
  {
   "cell_type": "code",
   "execution_count": null,
   "metadata": {
    "scrolled": false
   },
   "outputs": [],
   "source": [
    "model_training = UI.WidgetUI(\n",
    "    widget=iw.Accordion,\n",
    "    widget_children=[\n",
    "        UploadFileWidget,\n",
    "        UploadModelWidget,\n",
    "        SelectTrainingDataWidget,\n",
    "        SelectOptimizerWidget,\n",
    "        SelectLossesWidget,\n",
    "        SelectMetricsWidget,\n",
    "        SelectCallbackWidget,\n",
    "        TrainModelWidget,\n",
    "        PlotHistoryWidget,\n",
    "    ],\n",
    "    widget_params={\n",
    "        \"manager\": TrainingManager(\n",
    "            config=Config(),\n",
    "            data_manager=DataManager(data=Data()),\n",
    "            model_manager=ModelManager(model=Model()),\n",
    "        )\n",
    "    },\n",
    ")\n",
    "model_training.ui\n"
   ]
  }
 ],
 "metadata": {
  "kernelspec": {
   "display_name": "Python 3 (ipykernel)",
   "language": "python",
   "name": "python3"
  },
  "language_info": {
   "codemirror_mode": {
    "name": "ipython",
    "version": 3
   },
   "file_extension": ".py",
   "mimetype": "text/x-python",
   "name": "python",
   "nbconvert_exporter": "python",
   "pygments_lexer": "ipython3",
   "version": "3.10.7"
  },
  "vscode": {
   "interpreter": {
    "hash": "bc9293589a096fe08a52b75eee583dc9e75c3a487d51f71408e35f39a58b7c48"
   }
  }
 },
 "nbformat": 4,
 "nbformat_minor": 2
}
