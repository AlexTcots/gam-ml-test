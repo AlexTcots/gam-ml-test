{
 "cells": [
  {
   "cell_type": "code",
   "execution_count": 18,
   "metadata": {
    "pycharm": {
     "name": "#%%\n"
    }
   },
   "outputs": [],
   "source": [
    "import ipywidgets as iw\n",
    "\n",
    "import UI\n",
    "from DataClasses import Data, Model\n",
    "from Managers import DataManager, ModelManager\n",
    "from UI.CustomWidgets.DataPreparation import (\n",
    "    DataGridWidget,\n",
    "    DataPlotWidget,\n",
    "    SelectModelColumnsWidget,\n",
    ")\n",
    "from UI.CustomWidgets.ModelConfiguration import (\n",
    "    CreateModelWidget,\n",
    "    ManageLayersWidget,\n",
    "    PlotModelWidget,\n",
    "    SaveModelWidget,\n",
    ")\n",
    "from UI.CustomWidgets.ModelTraining import (\n",
    "    PlotHistoryWidget,\n",
    "    SelectCallbackWidget,\n",
    "    SelectLossesWidget,\n",
    "    SelectMetricsWidget,\n",
    "    SelectOptimizerWidget,\n",
    "    TrainModelWidget,\n",
    ")\n",
    "from UI.CustomWidgets.Uploading import UploadFileWidget, UploadModelWidget\n"
   ]
  },
  {
   "cell_type": "code",
   "execution_count": 19,
   "metadata": {
    "pycharm": {
     "name": "#%%\n"
    }
   },
   "outputs": [],
   "source": [
    "data = Data()\n",
    "model = Model()\n"
   ]
  },
  {
   "cell_type": "markdown",
   "metadata": {
    "pycharm": {
     "name": "#%% md\n"
    }
   },
   "source": [
    "<h1 style=\"text-align: center;\"> Upload</h1>"
   ]
  },
  {
   "cell_type": "code",
   "execution_count": 20,
   "metadata": {
    "pycharm": {
     "name": "#%%\n"
    }
   },
   "outputs": [
    {
     "data": {
      "text/plain": "Accordion(children=(UploadFileWidget(children=(FileChooser(path='C:\\Users\\alext\\PycharmProjects\\gam-ml-test_1\\…",
      "application/vnd.jupyter.widget-view+json": {
       "version_major": 2,
       "version_minor": 0,
       "model_id": "3f2e45dcd72445358e3c06a9378767e5"
      }
     },
     "execution_count": 20,
     "metadata": {},
     "output_type": "execute_result"
    }
   ],
   "source": [
    "uploading = UI.WidgetUI(\n",
    "    widget=iw.Accordion,\n",
    "    widget_children=[\n",
    "        UploadFileWidget,\n",
    "        UploadModelWidget,\n",
    "    ],\n",
    "    widget_params={\n",
    "        \"data_manager\": DataManager(data=data, model=model),\n",
    "        \"model_manager\": ModelManager(data=data, model=model),\n",
    "    },\n",
    ")\n",
    "uploading.ui\n"
   ]
  },
  {
   "cell_type": "markdown",
   "metadata": {
    "pycharm": {
     "name": "#%% md\n"
    }
   },
   "source": [
    "<h1 style=\"text-align: center;\"> Data Preparation </h1>"
   ]
  },
  {
   "cell_type": "code",
   "execution_count": 7,
   "metadata": {
    "pycharm": {
     "name": "#%%\n"
    },
    "scrolled": false
   },
   "outputs": [
    {
     "data": {
      "text/plain": "Accordion(children=(DataGridWidget(children=(IntRangeSlider(value=(0, 10), description='Row range', max=1000, …",
      "application/vnd.jupyter.widget-view+json": {
       "version_major": 2,
       "version_minor": 0,
       "model_id": "33148ee14c3e406dbbaa0ee3db1975c0"
      }
     },
     "execution_count": 7,
     "metadata": {},
     "output_type": "execute_result"
    }
   ],
   "source": [
    "data_preparation = UI.WidgetUI(\n",
    "    widget=iw.Accordion,\n",
    "    widget_children=[\n",
    "        DataGridWidget,\n",
    "        DataPlotWidget,\n",
    "        SelectModelColumnsWidget,\n",
    "    ],\n",
    "    widget_params={\n",
    "        \"data_manager\": DataManager(data=data, model=model),\n",
    "        \"model_manager\": ModelManager(data=data, model=model),\n",
    "    },\n",
    ")\n",
    "data_preparation.ui\n"
   ]
  },
  {
   "cell_type": "markdown",
   "metadata": {
    "pycharm": {
     "name": "#%% md\n"
    }
   },
   "source": [
    "<h1 style=\"text-align: center;\"> Model Configuration </h1>"
   ]
  },
  {
   "cell_type": "code",
   "execution_count": 14,
   "metadata": {
    "pycharm": {
     "name": "#%%\n"
    },
    "scrolled": false
   },
   "outputs": [
    {
     "data": {
      "text/plain": "Accordion(children=(CreateModelWidget(children=(Text(value='', description='Model name:', placeholder='Enter M…",
      "application/vnd.jupyter.widget-view+json": {
       "version_major": 2,
       "version_minor": 0,
       "model_id": "e4b0c13ee0b346218909d6f99e9313d5"
      }
     },
     "execution_count": 14,
     "metadata": {},
     "output_type": "execute_result"
    }
   ],
   "source": [
    "model_configuration = UI.WidgetUI(\n",
    "    widget=iw.Accordion,\n",
    "    widget_children=[\n",
    "        CreateModelWidget,\n",
    "        ManageLayersWidget,\n",
    "        PlotModelWidget,\n",
    "        SaveModelWidget,\n",
    "    ],\n",
    "    widget_params={\n",
    "        \"data_manager\": DataManager(data=data, model=model),\n",
    "        \"model_manager\": ModelManager(data=data, model=model),\n",
    "    },\n",
    ")\n",
    "model_configuration.ui\n"
   ]
  },
  {
   "cell_type": "markdown",
   "metadata": {
    "pycharm": {
     "name": "#%% md\n"
    }
   },
   "source": [
    "<h1 style=\"text-align: center;\"> Model Training </h1>"
   ]
  },
  {
   "cell_type": "code",
   "execution_count": 15,
   "metadata": {
    "pycharm": {
     "name": "#%%\n"
    },
    "scrolled": false
   },
   "outputs": [
    {
     "data": {
      "text/plain": "Accordion(children=(SelectOptimizerWidget(children=(Dropdown(description='Select optimizer:', options=('Adam',…",
      "application/vnd.jupyter.widget-view+json": {
       "version_major": 2,
       "version_minor": 0,
       "model_id": "6b322b0efbe84e8195d5bc1a7b501ae3"
      }
     },
     "execution_count": 15,
     "metadata": {},
     "output_type": "execute_result"
    }
   ],
   "source": [
    "model_training = UI.WidgetUI(\n",
    "    widget=iw.Accordion,\n",
    "    widget_children=[\n",
    "        SelectOptimizerWidget,\n",
    "        SelectLossesWidget,\n",
    "        SelectMetricsWidget,\n",
    "        SelectCallbackWidget,\n",
    "        TrainModelWidget,\n",
    "        PlotHistoryWidget,\n",
    "    ],\n",
    "    widget_params={\n",
    "        \"data_manager\": DataManager(data=data, model=model),\n",
    "        \"model_manager\": ModelManager(data=data, model=model),\n",
    "    },\n",
    ")\n",
    "model_training.ui\n"
   ]
  }
 ],
 "metadata": {
  "kernelspec": {
   "display_name": "Python 3 (ipykernel)",
   "language": "python",
   "name": "python3"
  },
  "language_info": {
   "codemirror_mode": {
    "name": "ipython",
    "version": 3
   },
   "file_extension": ".py",
   "mimetype": "text/x-python",
   "name": "python",
   "nbconvert_exporter": "python",
   "pygments_lexer": "ipython3",
   "version": "3.10.8"
  },
  "vscode": {
   "interpreter": {
    "hash": "bc9293589a096fe08a52b75eee583dc9e75c3a487d51f71408e35f39a58b7c48"
   }
  }
 },
 "nbformat": 4,
 "nbformat_minor": 2
}