{
 "cells": [
  {
   "cell_type": "code",
   "execution_count": 18,
   "metadata": {},
   "outputs": [],
   "source": [
    "import ipywidgets as iw\n",
    "\n",
    "import UI\n",
    "from DataClasses import Data, Model\n",
    "from Managers import DataManager, ModelManager\n",
    "from UI.CustomWidgets.DataPreparation import (\n",
    "    DataStatWidget,\n",
    "    DataGridWidget,\n",
    "    DataPlotWidget,\n",
    "    SelectInputColumnsWidget,\n",
    "    SelectOutputColumnsWidget,\n",
    "    SplitDataWidget,\n",
    ")\n",
    "from UI.CustomWidgets.ModelCompilation import (\n",
    "    CompileModel,\n",
    "    SelectLossesWidget,\n",
    "    SelectMetricsWidget,\n",
    "    SelectOptimizerWidget,\n",
    ")\n",
    "from UI.CustomWidgets.ModelConfiguration import (\n",
    "    CreateModelWidget,\n",
    "    ManageLayersWidget,\n",
    "    PlotModelWidget,\n",
    "    SaveModelWidget,\n",
    "    SetModelOutputsWidget,\n",
    "    ShowModelSummaryWidget,\n",
    ")\n",
    "from UI.CustomWidgets.ModelEvaluation import EvaluateModelWidget\n",
    "from UI.CustomWidgets.ModelPredictions import MakePredictionsWidget\n",
    "from UI.CustomWidgets.ModelTraining import (\n",
    "    PlotHistoryWidget,\n",
    "    SelectCallbacksWidget,\n",
    "    TrainModelWidget,\n",
    ")\n",
    "from UI.CustomWidgets.Uploaders import UploadFileWidget, UploadModelWidget\n"
   ]
  },
  {
   "cell_type": "code",
   "execution_count": 19,
   "metadata": {},
   "outputs": [],
   "source": [
    "data = Data()\n",
    "model = Model()\n",
    "data_manager = DataManager(data=data, model=model)\n",
    "model_manager = ModelManager(data=data, model=model)\n"
   ]
  },
  {
   "cell_type": "markdown",
   "metadata": {},
   "source": [
    "<h1 style=\"text-align: center;\"> Upload</h1>"
   ]
  },
  {
   "cell_type": "code",
   "execution_count": 20,
   "metadata": {
    "scrolled": false
   },
   "outputs": [],
   "source": [
    "uploading = UI.WidgetUI(\n",
    "    widget=iw.Accordion,\n",
    "    widget_children=[UploadFileWidget, UploadModelWidget],\n",
    "    data_manager=data_manager,\n",
    "    model_manager=model_manager,\n",
    ")\n",
    "uploading.ui\n"
   ]
  },
  {
   "cell_type": "markdown",
   "metadata": {},
   "source": [
    "<h1 style=\"text-align: center;\"> Data Preparation </h1>"
   ]
  },
  {
   "cell_type": "code",
   "execution_count": 21,
   "metadata": {},
   "outputs": [],
   "source": [
    "data_preparation = UI.WidgetUI(\n",
    "    widget=iw.Accordion,\n",
    "    widget_children=[\n",
    "        DataStatWidget,\n",
    "        DataGridWidget,\n",
    "        DataPlotWidget,\n",
    "        SelectInputColumnsWidget,\n",
    "        SelectOutputColumnsWidget,\n",
    "        SplitDataWidget,\n",
    "    ],\n",
    "    data_manager=data_manager,\n",
    "    model_manager=model_manager,\n",
    ")\n",
    "data_preparation.ui\n"
   ]
  },
  {
   "cell_type": "markdown",
   "metadata": {},
   "source": [
    "<h1 style=\"text-align: center;\"> Model Configuration </h1>"
   ]
  },
  {
   "cell_type": "code",
   "execution_count": null,
   "metadata": {
    "scrolled": false
   },
   "outputs": [],
   "source": [
    "model_configuration = UI.WidgetUI(\n",
    "    widget=iw.Accordion,\n",
    "    widget_children=[\n",
    "        CreateModelWidget,\n",
    "        ManageLayersWidget,\n",
    "        SetModelOutputsWidget,\n",
    "        ShowModelSummaryWidget,\n",
    "        PlotModelWidget,\n",
    "        SaveModelWidget,\n",
    "    ],\n",
    "    data_manager=data_manager,\n",
    "    model_manager=model_manager,\n",
    ")\n",
    "model_configuration.ui\n"
   ]
  },
  {
   "cell_type": "markdown",
   "metadata": {},
   "source": [
    "<h1 style=\"text-align: center;\"> Model Compilation </h1>"
   ]
  },
  {
   "cell_type": "code",
   "execution_count": null,
   "metadata": {},
   "outputs": [],
   "source": [
    "model_compilation = UI.WidgetUI(\n",
    "    widget=iw.Accordion,\n",
    "    widget_children=[\n",
    "        SelectOptimizerWidget,\n",
    "        SelectLossesWidget,\n",
    "        SelectMetricsWidget,\n",
    "        CompileModel,\n",
    "    ],\n",
    "    data_manager=data_manager,\n",
    "    model_manager=model_manager,\n",
    ")\n",
    "model_compilation.ui\n"
   ]
  },
  {
   "cell_type": "markdown",
   "metadata": {},
   "source": [
    "<h1 style=\"text-align: center;\"> Model Training </h1>"
   ]
  },
  {
   "cell_type": "code",
   "execution_count": null,
   "metadata": {
    "scrolled": false
   },
   "outputs": [],
   "source": [
    "model_training = UI.WidgetUI(\n",
    "    widget=iw.Accordion,\n",
    "    widget_children=[\n",
    "        SelectCallbacksWidget,\n",
    "        TrainModelWidget,\n",
    "        PlotHistoryWidget,\n",
    "        SaveModelWidget,\n",
    "    ],\n",
    "    data_manager=data_manager,\n",
    "    model_manager=model_manager,\n",
    ")\n",
    "model_training.ui\n"
   ]
  },
  {
   "cell_type": "markdown",
   "metadata": {},
   "source": [
    "<h1 style=\"text-align: center;\"> Model Evaluation </h1>"
   ]
  },
  {
   "cell_type": "code",
   "execution_count": null,
   "metadata": {},
   "outputs": [],
   "source": [
    "model_evaluation = UI.WidgetUI(\n",
    "    widget=iw.Accordion,\n",
    "    widget_children=[SelectCallbacksWidget, EvaluateModelWidget],\n",
    "    data_manager=data_manager,\n",
    "    model_manager=model_manager,\n",
    ")\n",
    "model_evaluation.ui\n"
   ]
  },
  {
   "cell_type": "markdown",
   "metadata": {},
   "source": [
    "<h1 style=\"text-align: center;\"> Model Predictions </h1>"
   ]
  },
  {
   "cell_type": "code",
   "execution_count": null,
   "metadata": {},
   "outputs": [],
   "source": [
    "model_predictions = UI.WidgetUI(\n",
    "    widget=iw.Accordion,\n",
    "    widget_children=[SelectCallbacksWidget, MakePredictionsWidget],\n",
    "    data_manager=data_manager,\n",
    "    model_manager=model_manager,\n",
    ")\n",
    "model_predictions.ui\n"
   ]
  }
 ],
 "metadata": {
  "kernelspec": {
   "display_name": "Python 3.10.8 ('project')",
   "language": "python",
   "name": "python3"
  },
  "language_info": {
   "codemirror_mode": {
    "name": "ipython",
    "version": 3
   },
   "file_extension": ".py",
   "mimetype": "text/x-python",
   "name": "python",
   "nbconvert_exporter": "python",
   "pygments_lexer": "ipython3",
   "version": "3.10.8"
  },
  "vscode": {
   "interpreter": {
    "hash": "64d97bc8833e3841c6236ed4917546773c4881b1b7b9f30861af9856d5f3349b"
   }
  }
 },
 "nbformat": 4,
 "nbformat_minor": 2
}
