{
 "cells": [
  {
   "cell_type": "code",
   "execution_count": 7,
   "metadata": {},
   "outputs": [],
   "source": [
    "import ipywidgets as iw\n",
    "\n",
    "import UI\n",
    "from DataClasses import Data, Model\n",
    "from Managers import DataManager, ModelManager\n",
    "from UI.CustomWidgets.DataPreparation import (\n",
    "    DataGridWidget,\n",
    "    DataPlotWidget,\n",
    "    DataRangeWidget,\n",
    "    SelectModelColumnsWidget,\n",
    ")\n",
    "from UI.CustomWidgets.ModelConfiguration import (\n",
    "    CreateModelWidget,\n",
    "    ManageLayersWidget,\n",
    "    PlotModelWidget,\n",
    "    SaveModelWidget,\n",
    ")\n",
    "from UI.CustomWidgets.ModelTraining import (\n",
    "    PlotHistoryWidget,\n",
    "    SelectCallbackWidget,\n",
    "    SelectLossesWidget,\n",
    "    SelectMetricsWidget,\n",
    "    SelectOptimizerWidget,\n",
    "    TrainModelWidget,\n",
    ")\n",
    "from UI.CustomWidgets.Uploading import UploadFileWidget, UploadModelWidget\n"
   ]
  },
  {
   "cell_type": "code",
   "execution_count": 8,
   "metadata": {},
   "outputs": [],
   "source": [
    "data = Data()\n",
    "model = Model()\n"
   ]
  },
  {
   "cell_type": "markdown",
   "metadata": {},
   "source": [
    "<h1 style=\"text-align: center;\"> Upload</h1>"
   ]
  },
  {
   "cell_type": "code",
   "execution_count": 7,
   "metadata": {},
   "outputs": [
    {
     "data": {
      "text/plain": "Accordion(children=(UploadFileWidget(children=(FileChooser(path='C:\\Users\\alext\\PycharmProjects\\gam-ml-test\\db…",
      "application/vnd.jupyter.widget-view+json": {
       "version_major": 2,
       "version_minor": 0,
       "model_id": "2d8daa9dfd014861b4b7216049c13d3e"
      }
     },
     "execution_count": 7,
     "metadata": {},
     "output_type": "execute_result"
    }
   ],
   "source": [
    "uploading = UI.WidgetUI(\n",
    "    widget=iw.Accordion,\n",
    "    widget_children=[\n",
    "        UploadFileWidget,\n",
    "        UploadModelWidget,\n",
    "    ],\n",
    "    widget_params={\n",
    "        \"data_manager\": DataManager(data=data, model=model),\n",
    "        \"model_manager\": ModelManager(data=data, model=model),\n",
    "    },\n",
    ")\n",
    "uploading.ui\n"
   ]
  },
  {
   "cell_type": "markdown",
   "metadata": {},
   "source": [
    "<h1 style=\"text-align: center;\"> Data Preparation </h1>"
   ]
  },
  {
   "cell_type": "code",
   "execution_count": 10,
   "metadata": {
    "scrolled": false
   },
   "outputs": [
    {
     "data": {
      "text/plain": "Accordion(children=(DataRangeWidget(children=(IntRangeSlider(value=(0, 10), description='Row range', max=1000,…",
      "application/vnd.jupyter.widget-view+json": {
       "version_major": 2,
       "version_minor": 0,
       "model_id": "5c578c90ca304348a9a9c96139f49bc6"
      }
     },
     "execution_count": 10,
     "metadata": {},
     "output_type": "execute_result"
    }
   ],
   "source": [
    "data_preparation = UI.WidgetUI(\n",
    "    widget=iw.Accordion,\n",
    "    widget_children=[\n",
    "        DataRangeWidget,\n",
    "        DataGridWidget,\n",
    "        DataPlotWidget,\n",
    "        SelectModelColumnsWidget,\n",
    "    ],\n",
    "    widget_params={\n",
    "        \"data_manager\": DataManager(data=data, model=model),\n",
    "        \"model_manager\": ModelManager(data=data, model=model),\n",
    "    },\n",
    ")\n",
    "data_preparation.ui\n"
   ]
  },
  {
   "cell_type": "markdown",
   "metadata": {},
   "source": [
    "<h1 style=\"text-align: center;\"> Model Configuration </h1>"
   ]
  },
  {
   "cell_type": "code",
   "execution_count": 11,
   "metadata": {
    "scrolled": false
   },
   "outputs": [
    {
     "data": {
      "text/plain": "Accordion(children=(CreateModelWidget(children=(Text(value='', description='Model name:', placeholder='Enter M…",
      "application/vnd.jupyter.widget-view+json": {
       "version_major": 2,
       "version_minor": 0,
       "model_id": "4a923ac93399482b9c5fc4f13934d90e"
      }
     },
     "execution_count": 11,
     "metadata": {},
     "output_type": "execute_result"
    }
   ],
   "source": [
    "model_configuration = UI.WidgetUI(\n",
    "    widget=iw.Accordion,\n",
    "    widget_children=[\n",
    "        CreateModelWidget,\n",
    "        ManageLayersWidget,\n",
    "        PlotModelWidget,\n",
    "        SaveModelWidget,\n",
    "    ],\n",
    "    widget_params={\n",
    "        \"data_manager\": DataManager(data=data, model=model),\n",
    "        \"model_manager\": ModelManager(data=data, model=model),\n",
    "    },\n",
    ")\n",
    "model_configuration.ui\n"
   ]
  },
  {
   "cell_type": "markdown",
   "metadata": {},
   "source": [
    "<h1 style=\"text-align: center;\"> Model Training </h1>"
   ]
  },
  {
   "cell_type": "code",
   "execution_count": 12,
   "metadata": {
    "scrolled": false
   },
   "outputs": [
    {
     "data": {
      "text/plain": "Accordion(children=(SelectOptimizerWidget(children=(Dropdown(description='Select optimizer:', options=('Adam',…",
      "application/vnd.jupyter.widget-view+json": {
       "version_major": 2,
       "version_minor": 0,
       "model_id": "2a677384e8504676ae6fc944947b8e27"
      }
     },
     "execution_count": 12,
     "metadata": {},
     "output_type": "execute_result"
    }
   ],
   "source": [
    "model_training = UI.WidgetUI(\n",
    "    widget=iw.Accordion,\n",
    "    widget_children=[\n",
    "        SelectOptimizerWidget,\n",
    "        SelectLossesWidget,\n",
    "        SelectMetricsWidget,\n",
    "        SelectCallbackWidget,\n",
    "        TrainModelWidget,\n",
    "        PlotHistoryWidget,\n",
    "    ],\n",
    "    widget_params={\n",
    "        \"data_manager\": DataManager(data=data, model=model),\n",
    "        \"model_manager\": ModelManager(data=data, model=model),\n",
    "    },\n",
    ")\n",
    "model_training.ui\n"
   ]
  }
 ],
 "metadata": {
  "kernelspec": {
   "display_name": "Python 3 (ipykernel)",
   "language": "python",
   "name": "python3"
  },
  "language_info": {
   "codemirror_mode": {
    "name": "ipython",
    "version": 3
   },
   "file_extension": ".py",
   "mimetype": "text/x-python",
   "name": "python",
   "nbconvert_exporter": "python",
   "pygments_lexer": "ipython3",
   "version": "3.10.8"
  },
  "vscode": {
   "interpreter": {
    "hash": "bc9293589a096fe08a52b75eee583dc9e75c3a487d51f71408e35f39a58b7c48"
   }
  }
 },
 "nbformat": 4,
 "nbformat_minor": 2
}
