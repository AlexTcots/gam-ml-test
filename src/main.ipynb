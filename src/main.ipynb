{
 "cells": [
  {
   "cell_type": "code",
   "execution_count": 1,
   "metadata": {},
   "outputs": [
    {
     "name": "stderr",
     "output_type": "stream",
     "text": [
      "2022-12-08 00:43:28.619233: I tensorflow/core/platform/cpu_feature_guard.cc:193] This TensorFlow binary is optimized with oneAPI Deep Neural Network Library (oneDNN) to use the following CPU instructions in performance-critical operations:  AVX2 FMA\n",
      "To enable them in other operations, rebuild TensorFlow with the appropriate compiler flags.\n",
      "2022-12-08 00:43:28.714674: W tensorflow/stream_executor/platform/default/dso_loader.cc:64] Could not load dynamic library 'libcudart.so.11.0'; dlerror: libcudart.so.11.0: cannot open shared object file: No such file or directory\n",
      "2022-12-08 00:43:28.714694: I tensorflow/stream_executor/cuda/cudart_stub.cc:29] Ignore above cudart dlerror if you do not have a GPU set up on your machine.\n",
      "2022-12-08 00:43:28.739464: E tensorflow/stream_executor/cuda/cuda_blas.cc:2981] Unable to register cuBLAS factory: Attempting to register factory for plugin cuBLAS when one has already been registered\n",
      "2022-12-08 00:43:29.208512: W tensorflow/stream_executor/platform/default/dso_loader.cc:64] Could not load dynamic library 'libnvinfer.so.7'; dlerror: libnvinfer.so.7: cannot open shared object file: No such file or directory\n",
      "2022-12-08 00:43:29.208563: W tensorflow/stream_executor/platform/default/dso_loader.cc:64] Could not load dynamic library 'libnvinfer_plugin.so.7'; dlerror: libnvinfer_plugin.so.7: cannot open shared object file: No such file or directory\n",
      "2022-12-08 00:43:29.208567: W tensorflow/compiler/tf2tensorrt/utils/py_utils.cc:38] TF-TRT Warning: Cannot dlopen some TensorRT libraries. If you would like to use Nvidia GPU with TensorRT, please make sure the missing libraries mentioned above are installed properly.\n"
     ]
    }
   ],
   "source": [
    "import ipywidgets as iw\n",
    "\n",
    "import UI\n",
    "from DataClasses import Data, Model\n",
    "from Managers import DataManager, ModelManager\n",
    "from UI.CustomWidgets.DataPreparation import (\n",
    "    DataGridWidget,\n",
    "    DataPlotWidget,\n",
    "    SelectInputColumnsWidget,\n",
    "    SelectOutputColumnsWidget,\n",
    "    SplitDataWidget,\n",
    ")\n",
    "from UI.CustomWidgets.ModelCompilation import (\n",
    "    CompileModel,\n",
    "    SelectLossesWidget,\n",
    "    SelectMetricsWidget,\n",
    "    SelectOptimizerWidget,\n",
    ")\n",
    "from UI.CustomWidgets.ModelConfiguration import (\n",
    "    CreateModelWidget,\n",
    "    ManageLayersWidget,\n",
    "    PlotModelWidget,\n",
    "    SaveModelWidget,\n",
    "    SetModelOutputsWidget,\n",
    "    ShowModelSummaryWidget,\n",
    ")\n",
    "from UI.CustomWidgets.ModelEvaluation import EvaluateModelWidget\n",
    "from UI.CustomWidgets.ModelPredictions import MakePredictionsWidget\n",
    "from UI.CustomWidgets.ModelTraining import (\n",
    "    PlotHistoryWidget,\n",
    "    SelectCallbacksWidget,\n",
    "    TrainModelWidget,\n",
    ")\n",
    "from UI.CustomWidgets.Uploaders import UploadFileWidget, UploadModelWidget\n"
   ]
  },
  {
   "cell_type": "code",
   "execution_count": 2,
   "metadata": {},
   "outputs": [],
   "source": [
    "data = Data()\n",
    "model = Model()\n",
    "data_manager = DataManager(data=data, model=model)\n",
    "model_manager = ModelManager(data=data, model=model)\n"
   ]
  },
  {
   "cell_type": "markdown",
   "metadata": {},
   "source": [
    "<h1 style=\"text-align: center;\"> Upload</h1>"
   ]
  },
  {
   "cell_type": "code",
   "execution_count": 3,
   "metadata": {},
   "outputs": [
    {
     "data": {
      "application/vnd.jupyter.widget-view+json": {
       "model_id": "8364f50e08d846bf976647e908a562f6",
       "version_major": 2,
       "version_minor": 0
      },
      "text/plain": [
       "Accordion(children=(UploadFileWidget(children=(FileChooser(path='/home/uu/Python/gam-ml-test/db/Datasets', fil…"
      ]
     },
     "metadata": {},
     "output_type": "display_data"
    }
   ],
   "source": [
    "uploading = UI.WidgetUI(\n",
    "    widget=iw.Accordion,\n",
    "    widget_children=[UploadFileWidget, UploadModelWidget],\n",
    "    data_manager=data_manager,\n",
    "    model_manager=model_manager,\n",
    ")\n",
    "uploading.ui\n"
   ]
  },
  {
   "cell_type": "markdown",
   "metadata": {},
   "source": [
    "<h1 style=\"text-align: center;\"> Data Preparation </h1>"
   ]
  },
  {
   "cell_type": "code",
   "execution_count": 5,
   "metadata": {},
   "outputs": [
    {
     "data": {
      "application/vnd.jupyter.widget-view+json": {
       "model_id": "7a1f4d668d954105a2357f5e817c3d7a",
       "version_major": 2,
       "version_minor": 0
      },
      "text/plain": [
       "Accordion(children=(DataGridWidget(children=(Button(description='Show Data Grid', style=ButtonStyle()), Output…"
      ]
     },
     "metadata": {},
     "output_type": "display_data"
    }
   ],
   "source": [
    "data_preparation = UI.WidgetUI(\n",
    "    widget=iw.Accordion,\n",
    "    widget_children=[\n",
    "        DataGridWidget,\n",
    "        DataPlotWidget,\n",
    "        SelectInputColumnsWidget,\n",
    "        SelectOutputColumnsWidget,\n",
    "        SplitDataWidget,\n",
    "    ],\n",
    "    data_manager=data_manager,\n",
    "    model_manager=model_manager,\n",
    ")\n",
    "data_preparation.ui\n"
   ]
  },
  {
   "cell_type": "markdown",
   "metadata": {},
   "source": [
    "<h1 style=\"text-align: center;\"> Model Configuration </h1>"
   ]
  },
  {
   "cell_type": "code",
   "execution_count": 5,
   "metadata": {},
   "outputs": [
    {
     "ename": "AttributeError",
     "evalue": "module 'ipywidgets' has no attribute 'Stack'",
     "output_type": "error",
     "traceback": [
      "\u001b[0;31m---------------------------------------------------------------------------\u001b[0m",
      "\u001b[0;31mAttributeError\u001b[0m                            Traceback (most recent call last)",
      "Cell \u001b[0;32mIn [5], line 1\u001b[0m\n\u001b[0;32m----> 1\u001b[0m model_configuration \u001b[38;5;241m=\u001b[39m \u001b[43mUI\u001b[49m\u001b[38;5;241;43m.\u001b[39;49m\u001b[43mWidgetUI\u001b[49m\u001b[43m(\u001b[49m\n\u001b[1;32m      2\u001b[0m \u001b[43m    \u001b[49m\u001b[43mwidget\u001b[49m\u001b[38;5;241;43m=\u001b[39;49m\u001b[43miw\u001b[49m\u001b[38;5;241;43m.\u001b[39;49m\u001b[43mAccordion\u001b[49m\u001b[43m,\u001b[49m\n\u001b[1;32m      3\u001b[0m \u001b[43m    \u001b[49m\u001b[43mwidget_children\u001b[49m\u001b[38;5;241;43m=\u001b[39;49m\u001b[43m[\u001b[49m\n\u001b[1;32m      4\u001b[0m \u001b[43m        \u001b[49m\u001b[43mCreateModelWidget\u001b[49m\u001b[43m,\u001b[49m\n\u001b[1;32m      5\u001b[0m \u001b[43m        \u001b[49m\u001b[43mManageLayersWidget\u001b[49m\u001b[43m,\u001b[49m\n\u001b[1;32m      6\u001b[0m \u001b[43m        \u001b[49m\u001b[43mSetModelOutputsWidget\u001b[49m\u001b[43m,\u001b[49m\n\u001b[1;32m      7\u001b[0m \u001b[43m        \u001b[49m\u001b[43mShowModelSummaryWidget\u001b[49m\u001b[43m,\u001b[49m\n\u001b[1;32m      8\u001b[0m \u001b[43m        \u001b[49m\u001b[43mPlotModelWidget\u001b[49m\u001b[43m,\u001b[49m\n\u001b[1;32m      9\u001b[0m \u001b[43m        \u001b[49m\u001b[43mSaveModelWidget\u001b[49m\u001b[43m,\u001b[49m\n\u001b[1;32m     10\u001b[0m \u001b[43m    \u001b[49m\u001b[43m]\u001b[49m\u001b[43m,\u001b[49m\n\u001b[1;32m     11\u001b[0m \u001b[43m    \u001b[49m\u001b[43mdata_manager\u001b[49m\u001b[38;5;241;43m=\u001b[39;49m\u001b[43mdata_manager\u001b[49m\u001b[43m,\u001b[49m\n\u001b[1;32m     12\u001b[0m \u001b[43m    \u001b[49m\u001b[43mmodel_manager\u001b[49m\u001b[38;5;241;43m=\u001b[39;49m\u001b[43mmodel_manager\u001b[49m\u001b[43m,\u001b[49m\n\u001b[1;32m     13\u001b[0m \u001b[43m)\u001b[49m\n\u001b[1;32m     14\u001b[0m model_configuration\u001b[38;5;241m.\u001b[39mui\n",
      "File \u001b[0;32m~/Python/gam-ml-test/src/UI/WidgetUI.py:40\u001b[0m, in \u001b[0;36mWidgetUI.__init__\u001b[0;34m(self, widget, widget_children, data_manager, model_manager, **kwargs)\u001b[0m\n\u001b[1;32m     37\u001b[0m \u001b[38;5;124;03m\"\"\"Initialize the UI.\"\"\"\u001b[39;00m\n\u001b[1;32m     38\u001b[0m \u001b[38;5;66;03m# Widgets\u001b[39;00m\n\u001b[1;32m     39\u001b[0m \u001b[38;5;28mself\u001b[39m\u001b[38;5;241m.\u001b[39mui \u001b[38;5;241m=\u001b[39m widget(\n\u001b[0;32m---> 40\u001b[0m     children\u001b[38;5;241m=\u001b[39m[\n\u001b[1;32m     41\u001b[0m         child_widget(\n\u001b[1;32m     42\u001b[0m             data_manager\u001b[38;5;241m=\u001b[39mdata_manager, model_manager\u001b[38;5;241m=\u001b[39mmodel_manager, \u001b[38;5;241m*\u001b[39m\u001b[38;5;241m*\u001b[39mkwargs\n\u001b[1;32m     43\u001b[0m         )\n\u001b[1;32m     44\u001b[0m         \u001b[38;5;28;01mfor\u001b[39;00m child_widget \u001b[38;5;129;01min\u001b[39;00m widget_children\n\u001b[1;32m     45\u001b[0m     ],\n\u001b[1;32m     46\u001b[0m     titles\u001b[38;5;241m=\u001b[39m[child_widget\u001b[38;5;241m.\u001b[39mname \u001b[38;5;28;01mfor\u001b[39;00m child_widget \u001b[38;5;129;01min\u001b[39;00m widget_children],\n\u001b[1;32m     47\u001b[0m )\n\u001b[1;32m     49\u001b[0m \u001b[38;5;66;03m# Callbacks\u001b[39;00m\n\u001b[1;32m     50\u001b[0m data_manager\u001b[38;5;241m.\u001b[39mobservers\u001b[38;5;241m.\u001b[39mextend(\u001b[38;5;28mself\u001b[39m\u001b[38;5;241m.\u001b[39mui\u001b[38;5;241m.\u001b[39mchildren)\n",
      "File \u001b[0;32m~/Python/gam-ml-test/src/UI/WidgetUI.py:41\u001b[0m, in \u001b[0;36m<listcomp>\u001b[0;34m(.0)\u001b[0m\n\u001b[1;32m     37\u001b[0m \u001b[38;5;124;03m\"\"\"Initialize the UI.\"\"\"\u001b[39;00m\n\u001b[1;32m     38\u001b[0m \u001b[38;5;66;03m# Widgets\u001b[39;00m\n\u001b[1;32m     39\u001b[0m \u001b[38;5;28mself\u001b[39m\u001b[38;5;241m.\u001b[39mui \u001b[38;5;241m=\u001b[39m widget(\n\u001b[1;32m     40\u001b[0m     children\u001b[38;5;241m=\u001b[39m[\n\u001b[0;32m---> 41\u001b[0m         \u001b[43mchild_widget\u001b[49m\u001b[43m(\u001b[49m\n\u001b[1;32m     42\u001b[0m \u001b[43m            \u001b[49m\u001b[43mdata_manager\u001b[49m\u001b[38;5;241;43m=\u001b[39;49m\u001b[43mdata_manager\u001b[49m\u001b[43m,\u001b[49m\u001b[43m \u001b[49m\u001b[43mmodel_manager\u001b[49m\u001b[38;5;241;43m=\u001b[39;49m\u001b[43mmodel_manager\u001b[49m\u001b[43m,\u001b[49m\u001b[43m \u001b[49m\u001b[38;5;241;43m*\u001b[39;49m\u001b[38;5;241;43m*\u001b[39;49m\u001b[43mkwargs\u001b[49m\n\u001b[1;32m     43\u001b[0m \u001b[43m        \u001b[49m\u001b[43m)\u001b[49m\n\u001b[1;32m     44\u001b[0m         \u001b[38;5;28;01mfor\u001b[39;00m child_widget \u001b[38;5;129;01min\u001b[39;00m widget_children\n\u001b[1;32m     45\u001b[0m     ],\n\u001b[1;32m     46\u001b[0m     titles\u001b[38;5;241m=\u001b[39m[child_widget\u001b[38;5;241m.\u001b[39mname \u001b[38;5;28;01mfor\u001b[39;00m child_widget \u001b[38;5;129;01min\u001b[39;00m widget_children],\n\u001b[1;32m     47\u001b[0m )\n\u001b[1;32m     49\u001b[0m \u001b[38;5;66;03m# Callbacks\u001b[39;00m\n\u001b[1;32m     50\u001b[0m data_manager\u001b[38;5;241m.\u001b[39mobservers\u001b[38;5;241m.\u001b[39mextend(\u001b[38;5;28mself\u001b[39m\u001b[38;5;241m.\u001b[39mui\u001b[38;5;241m.\u001b[39mchildren)\n",
      "File \u001b[0;32m~/Python/gam-ml-test/src/UI/CustomWidgets/ModelConfiguration/ManageLayersWidget.py:40\u001b[0m, in \u001b[0;36mManageLayersWidget.__init__\u001b[0;34m(self, model_manager, **kwargs)\u001b[0m\n\u001b[1;32m     34\u001b[0m \u001b[38;5;66;03m# Widgets\u001b[39;00m\n\u001b[1;32m     35\u001b[0m \u001b[38;5;28mself\u001b[39m\u001b[38;5;241m.\u001b[39mlayer_type_dropdown \u001b[38;5;241m=\u001b[39m iw\u001b[38;5;241m.\u001b[39mDropdown(\n\u001b[1;32m     36\u001b[0m     options\u001b[38;5;241m=\u001b[39m\u001b[38;5;28mlist\u001b[39m(layers),\n\u001b[1;32m     37\u001b[0m     description\u001b[38;5;241m=\u001b[39m\u001b[38;5;124m\"\u001b[39m\u001b[38;5;124mChoose layer type:\u001b[39m\u001b[38;5;124m\"\u001b[39m,\n\u001b[1;32m     38\u001b[0m     style\u001b[38;5;241m=\u001b[39m{\u001b[38;5;124m\"\u001b[39m\u001b[38;5;124mdescription_width\u001b[39m\u001b[38;5;124m\"\u001b[39m: \u001b[38;5;124m\"\u001b[39m\u001b[38;5;124minitial\u001b[39m\u001b[38;5;124m\"\u001b[39m},\n\u001b[1;32m     39\u001b[0m )\n\u001b[0;32m---> 40\u001b[0m \u001b[38;5;28mself\u001b[39m\u001b[38;5;241m.\u001b[39mlayers_stack \u001b[38;5;241m=\u001b[39m \u001b[43miw\u001b[49m\u001b[38;5;241;43m.\u001b[39;49m\u001b[43mStack\u001b[49m(\n\u001b[1;32m     41\u001b[0m     children\u001b[38;5;241m=\u001b[39m[\n\u001b[1;32m     42\u001b[0m         layer\u001b[38;5;241m.\u001b[39mwidget(model_manager\u001b[38;5;241m=\u001b[39m\u001b[38;5;28mself\u001b[39m\u001b[38;5;241m.\u001b[39mmodel_manager)\n\u001b[1;32m     43\u001b[0m         \u001b[38;5;28;01mfor\u001b[39;00m layer \u001b[38;5;129;01min\u001b[39;00m layers\u001b[38;5;241m.\u001b[39mvalues()\n\u001b[1;32m     44\u001b[0m     ]\n\u001b[1;32m     45\u001b[0m )\n\u001b[1;32m     46\u001b[0m \u001b[38;5;28mself\u001b[39m\u001b[38;5;241m.\u001b[39madd_layer_button \u001b[38;5;241m=\u001b[39m iw\u001b[38;5;241m.\u001b[39mButton(description\u001b[38;5;241m=\u001b[39m\u001b[38;5;124m\"\u001b[39m\u001b[38;5;124mAdd Layer\u001b[39m\u001b[38;5;124m\"\u001b[39m)\n\u001b[1;32m     47\u001b[0m \u001b[38;5;28mself\u001b[39m\u001b[38;5;241m.\u001b[39mlayer_status \u001b[38;5;241m=\u001b[39m iw\u001b[38;5;241m.\u001b[39mOutput()\n",
      "\u001b[0;31mAttributeError\u001b[0m: module 'ipywidgets' has no attribute 'Stack'"
     ]
    }
   ],
   "source": [
    "model_configuration = UI.WidgetUI(\n",
    "    widget=iw.Accordion,\n",
    "    widget_children=[\n",
    "        CreateModelWidget,\n",
    "        ManageLayersWidget,\n",
    "        SetModelOutputsWidget,\n",
    "        ShowModelSummaryWidget,\n",
    "        PlotModelWidget,\n",
    "        SaveModelWidget,\n",
    "    ],\n",
    "    data_manager=data_manager,\n",
    "    model_manager=model_manager,\n",
    ")\n",
    "model_configuration.ui\n"
   ]
  },
  {
   "cell_type": "markdown",
   "metadata": {},
   "source": [
    "<h1 style=\"text-align: center;\"> Model Compilation </h1>"
   ]
  },
  {
   "cell_type": "code",
   "execution_count": null,
   "metadata": {},
   "outputs": [],
   "source": [
    "model_compilation = UI.WidgetUI(\n",
    "    widget=iw.Accordion,\n",
    "    widget_children=[\n",
    "        SelectOptimizerWidget,\n",
    "        SelectLossesWidget,\n",
    "        SelectMetricsWidget,\n",
    "        CompileModel,\n",
    "    ],\n",
    "    data_manager=data_manager,\n",
    "    model_manager=model_manager,\n",
    ")\n",
    "model_compilation.ui\n"
   ]
  },
  {
   "cell_type": "markdown",
   "metadata": {},
   "source": [
    "<h1 style=\"text-align: center;\"> Model Training </h1>"
   ]
  },
  {
   "cell_type": "code",
   "execution_count": null,
   "metadata": {},
   "outputs": [],
   "source": [
    "model_training = UI.WidgetUI(\n",
    "    widget=iw.Accordion,\n",
    "    widget_children=[\n",
    "        SelectCallbacksWidget,\n",
    "        TrainModelWidget,\n",
    "        PlotHistoryWidget,\n",
    "        SaveModelWidget,\n",
    "    ],\n",
    "    data_manager=data_manager,\n",
    "    model_manager=model_manager,\n",
    ")\n",
    "model_training.ui\n"
   ]
  },
  {
   "cell_type": "markdown",
   "metadata": {},
   "source": [
    "<h1 style=\"text-align: center;\"> Model Evaluation </h1>"
   ]
  },
  {
   "cell_type": "code",
   "execution_count": null,
   "metadata": {},
   "outputs": [],
   "source": [
    "model_evaluation = UI.WidgetUI(\n",
    "    widget=iw.Accordion,\n",
    "    widget_children=[SelectCallbacksWidget, EvaluateModelWidget],\n",
    "    data_manager=data_manager,\n",
    "    model_manager=model_manager,\n",
    ")\n",
    "model_evaluation.ui\n"
   ]
  },
  {
   "cell_type": "markdown",
   "metadata": {},
   "source": [
    "<h1 style=\"text-align: center;\"> Model Predictions </h1>"
   ]
  },
  {
   "cell_type": "code",
   "execution_count": null,
   "metadata": {},
   "outputs": [],
   "source": [
    "model_predictions = UI.WidgetUI(\n",
    "    widget=iw.Accordion,\n",
    "    widget_children=[SelectCallbacksWidget, MakePredictionsWidget],\n",
    "    data_manager=data_manager,\n",
    "    model_manager=model_manager,\n",
    ")\n",
    "model_predictions.ui\n"
   ]
  }
 ],
 "metadata": {
  "kernelspec": {
   "display_name": "project",
   "language": "python",
   "name": "project"
  },
  "language_info": {
   "codemirror_mode": {
    "name": "ipython",
    "version": 3
   },
   "file_extension": ".py",
   "mimetype": "text/x-python",
   "name": "python",
   "nbconvert_exporter": "python",
   "pygments_lexer": "ipython3",
   "version": "3.10.8"
  },
  "vscode": {
   "interpreter": {
    "hash": "bc9293589a096fe08a52b75eee583dc9e75c3a487d51f71408e35f39a58b7c48"
   }
  }
 },
 "nbformat": 4,
 "nbformat_minor": 4
}
