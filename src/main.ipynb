{
 "cells": [
  {
   "cell_type": "code",
   "execution_count": 1,
   "metadata": {},
   "outputs": [],
   "source": [
    "import ipywidgets as iw\n",
    "\n",
    "import UI\n",
    "from DataClasses import Data, Model\n",
    "from Managers import DataManager, ModelManager\n",
    "from UI.CustomWidgets.DataPreparation import (\n",
    "    DataGridWidget,\n",
    "    DataPlotWidget,\n",
    "    SelectModelColumnsWidget,\n",
    ")\n",
    "from UI.CustomWidgets.ModelConfiguration import (\n",
    "    CreateModelWidget,\n",
    "    ManageLayersWidget,\n",
    "    PlotModelWidget,\n",
    "    SaveModelWidget,\n",
    ")\n",
    "from UI.CustomWidgets.ModelTraining import (\n",
    "    PlotHistoryWidget,\n",
    "    SelectCallbackWidget,\n",
    "    SelectLossesWidget,\n",
    "    SelectMetricsWidget,\n",
    "    SelectOptimizerWidget,\n",
    "    TrainModelWidget,\n",
    ")\n",
    "from UI.CustomWidgets.Uploaders import UploadFileWidget, UploadModelWidget\n"
   ]
  },
  {
   "cell_type": "code",
   "execution_count": 2,
   "metadata": {},
   "outputs": [],
   "source": [
    "data = Data()\n",
    "model = Model()\n"
   ]
  },
  {
   "cell_type": "markdown",
   "metadata": {},
   "source": [
    "<h1 style=\"text-align: center;\"> Upload</h1>"
   ]
  },
  {
   "cell_type": "code",
   "execution_count": null,
   "metadata": {},
   "outputs": [],
   "source": [
    "uploading = UI.WidgetUI(\n",
    "    widget=iw.Accordion,\n",
    "    widget_children=[\n",
    "        UploadFileWidget,\n",
    "        UploadModelWidget,\n",
    "    ],\n",
    "    widget_params={\n",
    "        \"data_manager\": DataManager(data=data, model=model),\n",
    "        \"model_manager\": ModelManager(data=data, model=model),\n",
    "    },\n",
    ")\n",
    "uploading.ui\n"
   ]
  },
  {
   "cell_type": "markdown",
   "metadata": {},
   "source": [
    "<h1 style=\"text-align: center;\"> Data Preparation </h1>"
   ]
  },
  {
   "cell_type": "code",
   "execution_count": null,
   "metadata": {
    "scrolled": false
   },
   "outputs": [],
   "source": [
    "data_preparation = UI.WidgetUI(\n",
    "    widget=iw.Accordion,\n",
    "    widget_children=[\n",
    "        DataGridWidget,\n",
    "        DataPlotWidget,\n",
    "        SelectModelColumnsWidget,\n",
    "    ],\n",
    "    widget_params={\n",
    "        \"data_manager\": DataManager(data=data, model=model),\n",
    "        \"model_manager\": ModelManager(data=data, model=model),\n",
    "    },\n",
    ")\n",
    "data_preparation.ui\n"
   ]
  },
  {
   "cell_type": "markdown",
   "metadata": {},
   "source": [
    "<h1 style=\"text-align: center;\"> Model Configuration </h1>"
   ]
  },
  {
   "cell_type": "code",
   "execution_count": null,
   "metadata": {
    "scrolled": false
   },
   "outputs": [],
   "source": [
    "model_configuration = UI.WidgetUI(\n",
    "    widget=iw.Accordion,\n",
    "    widget_children=[\n",
    "        CreateModelWidget,\n",
    "        ManageLayersWidget,\n",
    "        PlotModelWidget,\n",
    "        SaveModelWidget,\n",
    "    ],\n",
    "    widget_params={\n",
    "        \"data_manager\": DataManager(data=data, model=model),\n",
    "        \"model_manager\": ModelManager(data=data, model=model),\n",
    "    },\n",
    ")\n",
    "model_configuration.ui\n"
   ]
  },
  {
   "cell_type": "markdown",
   "metadata": {},
   "source": [
    "<h1 style=\"text-align: center;\"> Model Training </h1>"
   ]
  },
  {
   "cell_type": "code",
   "execution_count": null,
   "metadata": {
    "scrolled": false
   },
   "outputs": [],
   "source": [
    "model_training = UI.WidgetUI(\n",
    "    widget=iw.Accordion,\n",
    "    widget_children=[\n",
    "        SelectOptimizerWidget,\n",
    "        SelectLossesWidget,\n",
    "        SelectMetricsWidget,\n",
    "        SelectCallbackWidget,\n",
    "        TrainModelWidget,\n",
    "        PlotHistoryWidget,\n",
    "    ],\n",
    "    widget_params={\n",
    "        \"data_manager\": DataManager(data=data, model=model),\n",
    "        \"model_manager\": ModelManager(data=data, model=model),\n",
    "    },\n",
    ")\n",
    "model_training.ui\n"
   ]
  }
 ],
 "metadata": {
  "kernelspec": {
   "display_name": "Python 3 (ipykernel)",
   "language": "python",
   "name": "python3"
  },
  "language_info": {
   "codemirror_mode": {
    "name": "ipython",
    "version": 3
   },
   "file_extension": ".py",
   "mimetype": "text/x-python",
   "name": "python",
   "nbconvert_exporter": "python",
   "pygments_lexer": "ipython3",
   "version": "3.10.7"
  },
  "vscode": {
   "interpreter": {
    "hash": "bc9293589a096fe08a52b75eee583dc9e75c3a487d51f71408e35f39a58b7c48"
   }
  }
 },
 "nbformat": 4,
 "nbformat_minor": 2
}
