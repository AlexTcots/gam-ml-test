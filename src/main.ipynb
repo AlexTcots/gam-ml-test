{
 "cells": [
  {
   "cell_type": "code",
   "execution_count": 1,
   "metadata": {},
   "outputs": [],
   "source": [
    "import UI\n"
   ]
  },
  {
   "cell_type": "code",
   "execution_count": 2,
   "metadata": {},
   "outputs": [
    {
     "data": {
      "application/vnd.jupyter.widget-view+json": {
       "model_id": "03fcd98c06b04d67ab6c7e484110e0c5",
       "version_major": 2,
       "version_minor": 0
      },
      "text/plain": [
       "DataPreperationUI(children=(Accordion(children=(UploadFileWidget(children=(HBox(children=(Label(value='Please,…"
      ]
     },
     "execution_count": 2,
     "metadata": {},
     "output_type": "execute_result"
    }
   ],
   "source": [
    "data_preperation = UI.DataPreperationUI()\n",
    "data_preperation\n"
   ]
  },
  {
   "cell_type": "code",
   "execution_count": 3,
   "metadata": {
    "scrolled": false
   },
   "outputs": [
    {
     "data": {
      "application/vnd.jupyter.widget-view+json": {
       "model_id": "b6efdb6dc6084167aaf8b30b429f1950",
       "version_major": 2,
       "version_minor": 0
      },
      "text/plain": [
       "ModelConfigurationUI(children=(Accordion(children=(CreateModelWidget(children=(Text(value='', description='Mod…"
      ]
     },
     "execution_count": 3,
     "metadata": {},
     "output_type": "execute_result"
    },
    {
     "ename": "TypeError",
     "evalue": "Managers.ModelManager.ModelManager.add_layer() argument after ** must be a mapping, not property",
     "output_type": "error",
     "traceback": [
      "\u001b[1;31m---------------------------------------------------------------------------\u001b[0m",
      "\u001b[1;31mTypeError\u001b[0m                                 Traceback (most recent call last)",
      "File \u001b[1;32m~\\Documents\\Projects\\gam-ml-test\\src\\UI\\CustomWidgets\\ModelConfiguration\\ManageLayersWidget.py:78\u001b[0m, in \u001b[0;36mManageLayersWidget._on_add_layer_button_clicked\u001b[1;34m(self, _)\u001b[0m\n\u001b[0;32m     75\u001b[0m \u001b[38;5;28;01mdef\u001b[39;00m \u001b[38;5;21m_on_add_layer_button_clicked\u001b[39m(\u001b[38;5;28mself\u001b[39m, _) \u001b[38;5;241m-\u001b[39m\u001b[38;5;241m>\u001b[39m \u001b[38;5;28;01mNone\u001b[39;00m:\n\u001b[0;32m     76\u001b[0m     layer_type \u001b[38;5;241m=\u001b[39m \u001b[38;5;28mself\u001b[39m\u001b[38;5;241m.\u001b[39mlayer_type_dropdown\u001b[38;5;241m.\u001b[39mvalue\n\u001b[1;32m---> 78\u001b[0m     \u001b[38;5;28mself\u001b[39m\u001b[38;5;241m.\u001b[39m_manager\u001b[38;5;241m.\u001b[39madd_layer(\n\u001b[0;32m     79\u001b[0m         layer_type\u001b[38;5;241m=\u001b[39mlayer_type,\n\u001b[0;32m     80\u001b[0m         instance\u001b[38;5;241m=\u001b[39m\u001b[38;5;28mself\u001b[39m\u001b[38;5;241m.\u001b[39m_current_layer\u001b[38;5;241m.\u001b[39minstance,\n\u001b[0;32m     81\u001b[0m         connect_to\u001b[38;5;241m=\u001b[39m\u001b[38;5;28mself\u001b[39m\u001b[38;5;241m.\u001b[39mconnect_dropdown\u001b[38;5;241m.\u001b[39mvalue,\n\u001b[0;32m     82\u001b[0m         output_handler\u001b[38;5;241m=\u001b[39m\u001b[38;5;28mself\u001b[39m\u001b[38;5;241m.\u001b[39mlayer_status,\n\u001b[0;32m     83\u001b[0m         \u001b[38;5;241m*\u001b[39m\u001b[38;5;241m*\u001b[39m\u001b[38;5;28mself\u001b[39m\u001b[38;5;241m.\u001b[39m_current_layer\u001b[38;5;241m.\u001b[39mwidget\u001b[38;5;241m.\u001b[39mparams,\n\u001b[0;32m     84\u001b[0m     )\n\u001b[0;32m     86\u001b[0m     \u001b[38;5;28mself\u001b[39m\u001b[38;5;241m.\u001b[39mconnect_dropdown\u001b[38;5;241m.\u001b[39moptions \u001b[38;5;241m=\u001b[39m (\u001b[38;5;124m\"\u001b[39m\u001b[38;5;124m\"\u001b[39m,) \u001b[38;5;241m+\u001b[39m \u001b[38;5;28mtuple\u001b[39m(\u001b[38;5;28mself\u001b[39m\u001b[38;5;241m.\u001b[39m_manager\u001b[38;5;241m.\u001b[39mmodel\u001b[38;5;241m.\u001b[39mlayers\u001b[38;5;241m.\u001b[39mkeys())\n",
      "\u001b[1;31mTypeError\u001b[0m: Managers.ModelManager.ModelManager.add_layer() argument after ** must be a mapping, not property"
     ]
    }
   ],
   "source": [
    "model_configuration = UI.ModelConfigurationUI()\n",
    "model_configuration\n"
   ]
  },
  {
   "cell_type": "code",
   "execution_count": 4,
   "metadata": {},
   "outputs": [
    {
     "ename": "AttributeError",
     "evalue": "'NoneType' object has no attribute 'get_layer'",
     "output_type": "error",
     "traceback": [
      "\u001b[1;31m---------------------------------------------------------------------------\u001b[0m",
      "\u001b[1;31mAttributeError\u001b[0m                            Traceback (most recent call last)",
      "Cell \u001b[1;32mIn [4], line 1\u001b[0m\n\u001b[1;32m----> 1\u001b[0m model_configuration\u001b[38;5;241m.\u001b[39mmodel\u001b[38;5;241m.\u001b[39minstance\u001b[38;5;241m.\u001b[39mget_layer(\u001b[38;5;124m\"\u001b[39m\u001b[38;5;124mdense_1\u001b[39m\u001b[38;5;124m\"\u001b[39m)\u001b[38;5;241m.\u001b[39mactivation\n",
      "\u001b[1;31mAttributeError\u001b[0m: 'NoneType' object has no attribute 'get_layer'"
     ]
    }
   ],
   "source": [
    "model_configuration.model.instance.get_layer(\"dense_1\").activation"
   ]
  }
 ],
 "metadata": {
  "kernelspec": {
   "display_name": "Python 3 (ipykernel)",
   "language": "python",
   "name": "python3"
  },
  "language_info": {
   "codemirror_mode": {
    "name": "ipython",
    "version": 3
   },
   "file_extension": ".py",
   "mimetype": "text/x-python",
   "name": "python",
   "nbconvert_exporter": "python",
   "pygments_lexer": "ipython3",
   "version": "3.10.7"
  },
  "vscode": {
   "interpreter": {
    "hash": "bc9293589a096fe08a52b75eee583dc9e75c3a487d51f71408e35f39a58b7c48"
   }
  }
 },
 "nbformat": 4,
 "nbformat_minor": 2
}
